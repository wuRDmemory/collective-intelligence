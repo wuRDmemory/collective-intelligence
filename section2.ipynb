{
 "cells": [
  {
   "cell_type": "code",
   "execution_count": 8,
   "metadata": {},
   "outputs": [
    {
     "data": {
      "image/png": "[encoded data removed]",
      "text/plain": [
       "<Figure size 432x288 with 1 Axes>"
      ]
     },
     "metadata": {},
     "output_type": "display_data"
    }
   ],
   "source": [
    "import numpy as np\n",
    "import os\n",
    "import matplotlib.pyplot as plt\n",
    "\n",
    "critics={\n",
    "    'Lisa Rose': {'Lady in the Water': 2.5, 'Snakes on a Plane': 3.5, \n",
    "                  'Just My Luck': 3.0, 'Superman Returns': 3.5, 'You, Me and Dupree': 2.5, \n",
    "                  'The Night Listener': 3.0},\n",
    "    'Gene Seymour': {'Lady in the Water': 3.0, 'Snakes on a Plane': 3.5, \n",
    "                     'Just My Luck': 1.5, 'Superman Returns': 5.0, 'The Night Listener': 3.0, \n",
    "                     'You, Me and Dupree': 3.5}, \n",
    "    'Michael Phillips': {'Lady in the Water': 2.5, 'Snakes on a Plane': 3.0,\n",
    "                         'Superman Returns': 3.5, 'The Night Listener': 4.0},\n",
    "    'Claudia Puig': {'Snakes on a Plane': 3.5, 'Just My Luck': 3.0,\n",
    "                     'The Night Listener': 4.5, 'Superman Returns': 4.0, \n",
    "                     'You, Me and Dupree': 2.5},\n",
    "    'Mick LaSalle': {'Lady in the Water': 3.0, 'Snakes on a Plane': 4.0, \n",
    "                     'Just My Luck': 2.0, 'Superman Returns': 3.0, 'The Night Listener': 3.0,\n",
    "                     'You, Me and Dupree': 2.0}, \n",
    "    'Jack Matthews': {'Lady in the Water': 3.0, 'Snakes on a Plane': 4.0,\n",
    "                      'The Night Listener': 3.0, 'Superman Returns': 5.0, 'You, Me and Dupree': 3.5},\n",
    "    'Toby': {'Snakes on a Plane':4.5,'You, Me and Dupree':1.0,'Superman Returns':4.0}\n",
    "}\n",
    "\n",
    "def draw_plot(movie1, movie2):\n",
    "    name_score = {}\n",
    "    for name, movies in critics.items():\n",
    "        statistic = [-1, -1]\n",
    "        for movie_name, scope in movies.items():\n",
    "            if movie1 in movie_name:\n",
    "                statistic[0] = scope\n",
    "            if movie2 in movie_name:\n",
    "                statistic[1] = scope\n",
    "                \n",
    "        if -1 not in statistic:\n",
    "            name_score[name] = statistic\n",
    "    \n",
    "    scores = []\n",
    "    for name, score in name_score.items():\n",
    "        scores.append(score)\n",
    "    \n",
    "    scores = np.array(scores)\n",
    "    plt.xlim((0, 5))\n",
    "    plt.ylim((0, 5))\n",
    "    plt.scatter(scores[:,0], scores[:,1])\n",
    "    plt.show()\n",
    "\n",
    "if __name__=='__main__':\n",
    "#     movie1 = 'Snakes'; movie2 = 'Dupree'\n",
    "    draw_plot('Dupree', 'Snakes')\n",
    "    \n"
   ]
  },
  {
   "cell_type": "code",
   "execution_count": 9,
   "metadata": {},
   "outputs": [],
   "source": [
    "?plt.xlim"
   ]
  },
  {
   "cell_type": "code",
   "execution_count": null,
   "metadata": {},
   "outputs": [],
   "source": []
  }
 ],
 "metadata": {
  "kernelspec": {
   "display_name": "Python 3",
   "language": "python",
   "name": "python3"
  },
  "language_info": {
   "codemirror_mode": {
    "name": "ipython",
    "version": 3
   },
   "file_extension": ".py",
   "mimetype": "text/x-python",
   "name": "python",
   "nbconvert_exporter": "python",
   "pygments_lexer": "ipython3",
   "version": "3.6.5"
  }
 },
 "nbformat": 4,
 "nbformat_minor": 2
}
